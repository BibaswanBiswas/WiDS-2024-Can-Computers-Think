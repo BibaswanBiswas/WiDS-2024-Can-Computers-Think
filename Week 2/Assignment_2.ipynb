{
  "cells": [
    {
      "cell_type": "markdown",
      "metadata": {
        "id": "view-in-github",
        "colab_type": "text"
      },
      "source": [
        "<a href=\"https://colab.research.google.com/github/BibaswanBiswas/WiDS-2024-Can-Computers-Think/blob/main/Week%202/Assignment_2.ipynb\" target=\"_parent\"><img src=\"https://colab.research.google.com/assets/colab-badge.svg\" alt=\"Open In Colab\"/></a>"
      ]
    },
    {
      "cell_type": "markdown",
      "metadata": {
        "id": "pfkEsAcJoeEB"
      },
      "source": [
        "### Assignment : Week 1\n",
        "## Modeling simple RL problems by making their MDPs in Python\n",
        "\n",
        "We will create the MDPs for some of the example problems from Grokking textbook. For the simple environments, we can just hardcode the MDPs into a dictionary by exhaustively encoding the whole state space and the transition function. We will also go through a more complicated example where the state space is too large to be manually coded and we need to implement the transition function based on some state parameters.\n",
        "\n",
        "Later on, you will not need to implement the MDPs of common RL problems yourself, most of the work is already done by the OpenAI Gym library, which includes models for most of the famous RL envis.\n",
        "\n",
        "You can start this assignment during/after reading Grokking Ch-2."
      ]
    },
    {
      "cell_type": "markdown",
      "metadata": {
        "id": "qcjQMzeYoeEF"
      },
      "source": [
        "## Environment 0 - Bandit Walk\n",
        "\n",
        "Let us consider the BW environment on Page 39.\n",
        "\n",
        "State Space has 3 elements, states 0, 1 and 2.\n",
        "States 0 and 2 are terminal states and state 1 is the starting state.\n",
        "\n",
        "Action space has 2 elements, left and right.\n",
        "\n",
        "The environment is deterministic - transition probability of any action is 1.\n",
        "\n",
        "Only 1 (State, Action, State') tuple has positive reward, (1, Right, 2) gives the agent +1 reward."
      ]
    },
    {
      "cell_type": "markdown",
      "metadata": {
        "id": "BT3Ni4EMoeEG"
      },
      "source": [
        "We'll model this MDP as a dictionary. This code is an example for the upcoming exercises."
      ]
    },
    {
      "cell_type": "code",
      "execution_count": null,
      "metadata": {
        "id": "LqdLJPvToeEH"
      },
      "outputs": [],
      "source": [
        "bw_mdp = {\n",
        "\n",
        "    0 : {\n",
        "        \"Right\" : [(1, 0, 0, True)],\n",
        "        \"Left\" : [(1, 0, 0, True)]\n",
        "    },\n",
        "\n",
        "    1 : {\n",
        "        \"Right\" : [(1, 2, 1, True)],\n",
        "        \"Left\" : [(1, 0, 0, True)]\n",
        "    },\n",
        "\n",
        "    2 : {\n",
        "        \"Right\" : [(1, 2, 0, True)],\n",
        "        \"Left\" : [(1, 2, 0, True)]\n",
        "    }\n",
        "\n",
        "}"
      ]
    },
    {
      "cell_type": "markdown",
      "metadata": {
        "id": "w4_vtbmmoeEI"
      },
      "source": [
        "Note that by convention, all actions from terminal states still lead to the same state with reward 0."
      ]
    },
    {
      "cell_type": "markdown",
      "metadata": {
        "id": "jVTeod8doeEJ"
      },
      "source": [
        "## Environment 1 - Slippery Walk\n",
        "\n",
        "Let us now look at the BSW environment on Page 40. We'll model a slightly modified version of BSW with 7 states instead (i.e the SWF envi on Page 67). It will be useful in the coming weeks.\n",
        "\n",
        "Here, states 0 and 6 are terminal states and state 3 is the starting state.\n",
        "\n",
        "Action space has again 2 elements, left and right.\n",
        "\n",
        "The environment is now stochastic, transition probability of any action is as follows -\n",
        "If agent chooses `Right` at a non-terminal state,\n",
        "- $50\\%$ times it will go to `Right` state\n",
        "- $33\\frac{1}{3} \\%$ times it will stay in same state\n",
        "- $16\\frac{2}{3}\\%$ times it will go to `Left`state\n",
        "\n",
        "This time, 2 different (State, Action, State') tuples have positive rewards, you need to find them."
      ]
    },
    {
      "cell_type": "markdown",
      "metadata": {
        "id": "b5PSAXXgoeEJ"
      },
      "source": [
        "We'll again model this MDP as a dictionary. Part of the code is written for you."
      ]
    },
    {
      "cell_type": "code",
      "execution_count": null,
      "metadata": {
        "id": "hTocwMTDoeEJ"
      },
      "outputs": [],
      "source": [
        "swf_mdp = {\n",
        "\n",
        "    0 : {\n",
        "        \"Right\" : [(1, 0, 0, True)],\n",
        "        \"Left\" : [(1, 0, 0, True)],\n",
        "    },\n",
        "\n",
        "    1 : {\n",
        "        \"Right\" : [\n",
        "            (1/2, 2, 0, False),\n",
        "            (1/3, 1, 0, False),\n",
        "            (1/6, 0, 0, True),\n",
        "        ],\n",
        "        \"Left\" : [\n",
        "            (1/2,0,0,True),\n",
        "            (1/3,1,0,False),\n",
        "            (1/6,2,0,False)\n",
        "        ]\n",
        "    },\n",
        "\n",
        "    # to be added\n",
        "    2 : {\n",
        "        \"Right\" : [\n",
        "            (1/2,3,0,False),\n",
        "            (1/3,2,0,False),\n",
        "            (1/6,1,0,False)\n",
        "        ],\n",
        "        \"Left\" :[\n",
        "            (1/2,1,0,False),\n",
        "            (1/3,2,0,False),\n",
        "            (1/6,3,0,False)]\n",
        "    },\n",
        "    3 : {\n",
        "        \"Right\":[(1/2,4,0,False),\n",
        "                 (1/3,3,0,False),\n",
        "                 (1/6,2,0,False)],\n",
        "        \"Left\":[(1/2,2,0,False),\n",
        "                (1/3,3,0,False),\n",
        "                (1/6,4,0,False)]\n",
        "\n",
        "\n",
        "    },\n",
        "    4 : {\n",
        "        \"Right\":[(1/2,5,0,False),\n",
        "                 (1/3,4,0,False),\n",
        "                 (1/6,3,0,False)],\n",
        "        \"Left\":[(1/2,3,0,False),\n",
        "                (1/3,4,0,False),\n",
        "                (1/6,5,0,False)]\n",
        "    },\n",
        "    5 : {\n",
        "        \"Right\" :[(1/2,6,1,True),\n",
        "                  (1/3,5,0,False),\n",
        "                  (1/6,4,0,False)],\n",
        "        \"Left\":[(1/2,4,0,False),\n",
        "                (1/3,5,0,False),\n",
        "                (1/6,6,1,True)]\n",
        "    },\n",
        "    6 : {\n",
        "        \"Right\":[(1,6,0,True)],\n",
        "        \"Left\":[(1,6,0,True)]\n",
        "    }\n",
        "\n",
        "}"
      ]
    },
    {
      "cell_type": "markdown",
      "metadata": {
        "id": "gxGmNgFpoeEK"
      },
      "source": [
        "Feel free to automate filling this MDP, but ensure that it is correctly filled as it'll be back in next week's assignment."
      ]
    },
    {
      "cell_type": "markdown",
      "metadata": {
        "id": "_rAWcSX1oeEK"
      },
      "source": [
        "## Environment 2 - Frozen Lake Environment\n",
        "\n",
        "This environment is described on Page 46.\n",
        "\n",
        "The FL environment has a large state space, so it's better to generate most of the MDP via Python instead of typing stuff manually.\n",
        "\n",
        "Note that all 5 states - 5, 7, 11, 12, 15 are terminal states, so keep that in mind while constructing the MDP.\n",
        "\n",
        "There are 4 actions now - Up, Down, Left, Right.\n",
        "\n",
        "The environment is stochastic, and states at the border of lake will require separate treatment.\n",
        "\n"
      ]
    },
    {
      "cell_type": "markdown",
      "metadata": {
        "id": "AsL2ELHnoeEK"
      },
      "source": [
        "Yet again we will model this MDP as a (large) dictionary."
      ]
    },
    {
      "cell_type": "code",
      "execution_count": null,
      "metadata": {
        "id": "ur4nbDlAoeEL"
      },
      "outputs": [],
      "source": [
        "fl_mdp = {\n",
        "    # to be added\n",
        "}"
      ]
    },
    {
      "cell_type": "code",
      "execution_count": null,
      "metadata": {
        "id": "Ey5HrQjloeEL"
      },
      "outputs": [],
      "source": [
        "for state in range(0, 16):\n",
        "\n",
        "    # add transitions to other states\n",
        "    transitions = {}\n",
        "\n",
        "    for action in [\"Up\", \"Down\", \"Right\", \"Left\"]:\n",
        "\n",
        "        # do work\n",
        "        transitions[action]=[]\n",
        "        if state==5 or state==7 or state==11 or state==12 or state==15:\n",
        "          transitions[action]=[(1.0,state,0.0,True)]\n",
        "        else:\n",
        "          if action==\"Up\":\n",
        "            final=state-4\n",
        "            ortho1=state-1\n",
        "            ortho2=state+1\n",
        "            if final<0:\n",
        "              final=state\n",
        "            if state%4==0:\n",
        "              ortho1=state\n",
        "            if state%4==3:\n",
        "              ortho2=state\n",
        "            for i in[final,ortho1,ortho2]:\n",
        "              if i==5 or i==7 or i==11 or i==12:\n",
        "                transitions[action].append((1/3,i,0.0,True))\n",
        "              elif i==15:\n",
        "                transitions[action].append((1/3,i,1.0,True))\n",
        "              else:\n",
        "                transitions[action].append((1/3,i,0.0,False))\n",
        "          elif action==\"Down\":\n",
        "            final=state+4\n",
        "            ortho1=state-1\n",
        "            ortho2=state+1\n",
        "            if final>15:\n",
        "              final=state\n",
        "            if state%4==0:\n",
        "              ortho1=state\n",
        "            if state%4==3:\n",
        "              ortho2=state\n",
        "            for i in [final,ortho1,ortho2]:\n",
        "              if i==5 or i==7 or i==11 or i==12:\n",
        "                transitions[action].append((1/3,i,0.0,True))\n",
        "              elif i==15:\n",
        "                transitions[action].append((1/3,i,1.0,True))\n",
        "              else:\n",
        "                transitions[action].append((1/3,i,0.0,False))\n",
        "          elif action==\"Right\":\n",
        "            final=state+1\n",
        "            ortho1=state-4\n",
        "            ortho2=state+4\n",
        "            if final%4==0:\n",
        "              final=state\n",
        "            if ortho1<0:\n",
        "              ortho1=state\n",
        "            if ortho2>15:\n",
        "              ortho2=state\n",
        "            for i in [final,ortho1,ortho2]:\n",
        "              if i==5 or i==7 or i==11 or i==12:\n",
        "                transitions[action].append((1/3,i,0.0,True))\n",
        "              elif i==15:\n",
        "                transitions[action].append((1/3,i,1.0,True))\n",
        "              else:\n",
        "                transitions[action].append((1/3,i,0.0,False))\n",
        "          else:\n",
        "            final=state-1\n",
        "            ortho1=state-4\n",
        "            ortho2=state+4\n",
        "            if state%4==0:\n",
        "              final=state\n",
        "            if ortho1<0:\n",
        "              ortho1=state\n",
        "            if ortho2>15:\n",
        "              ortho2=state\n",
        "            for i in [final,ortho1,ortho2]:\n",
        "              if i==5 or i==7 or i==11 or i==12:\n",
        "                transitions[action].append((1/3,i,0.0,True))\n",
        "              elif i==15:\n",
        "                transitions[action].append((1/3,i,1.0,True))\n",
        "              else:\n",
        "                transitions[action].append((1/3,i,0.0,False))\n",
        "\n",
        "\n",
        "\n",
        "\n",
        "    fl_mdp[state] = transitions"
      ]
    },
    {
      "cell_type": "markdown",
      "metadata": {
        "id": "zl1LlzMboeEL"
      },
      "source": [
        "You might need to do some stuff manually, but make sure to automate most of it."
      ]
    },
    {
      "cell_type": "markdown",
      "metadata": {
        "id": "L65yLCtkoeEL"
      },
      "source": [
        "You can check your implementation of the FL environment by comparing it with the one in OpenAI Gym.\n",
        "\n",
        "You don't need to worry about Gym right now, we'll set it up in the coming weeks. But here is the code to import an MDP."
      ]
    },
    {
      "cell_type": "code",
      "execution_count": null,
      "metadata": {
        "id": "U31QWBluoeEL"
      },
      "outputs": [],
      "source": [
        "import gym\n",
        "P = gym.make('FrozenLake-v1').env.P"
      ]
    },
    {
      "cell_type": "markdown",
      "metadata": {
        "id": "8jWPh7l2oeEL"
      },
      "source": [
        "Since the imported MDP is also just a dictionary, we can just print it."
      ]
    },
    {
      "cell_type": "code",
      "execution_count": null,
      "metadata": {
        "id": "7jckEml2oeEM"
      },
      "outputs": [],
      "source": [
        "# using the pretty print module\n",
        "\n",
        "import pprint\n",
        "pprint.pprint(P)"
      ]
    },
    {
      "cell_type": "code",
      "execution_count": null,
      "metadata": {
        "id": "Q9h22UUJoeEM"
      },
      "outputs": [],
      "source": [
        "pprint.pprint(fl_mdp)"
      ]
    }
  ],
  "metadata": {
    "kernelspec": {
      "display_name": "Python 3",
      "language": "python",
      "name": "python3"
    },
    "language_info": {
      "codemirror_mode": {
        "name": "ipython",
        "version": 3
      },
      "file_extension": ".py",
      "mimetype": "text/x-python",
      "name": "python",
      "nbconvert_exporter": "python",
      "pygments_lexer": "ipython3",
      "version": "3.11.2"
    },
    "colab": {
      "provenance": [],
      "include_colab_link": true
    }
  },
  "nbformat": 4,
  "nbformat_minor": 0
}